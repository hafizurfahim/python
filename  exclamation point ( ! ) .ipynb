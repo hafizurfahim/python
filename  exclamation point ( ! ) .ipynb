{
 "cells": [
  {
   "cell_type": "markdown",
   "metadata": {},
   "source": [
    "# Write a function called add_excitement that takes a list of strings and adds an exclamation point ( ! ) to the end of each string in the list. The program should modify the original list and not return anything."
   ]
  },
  {
   "cell_type": "code",
   "execution_count": 4,
   "metadata": {},
   "outputs": [
    {
     "name": "stdout",
     "output_type": "stream",
     "text": [
      "enter the list of string : hafizur rahman fahim\n",
      "hafizur rahman fahim !\n"
     ]
    }
   ],
   "source": [
    "#function declared\n",
    "def add_excitement(): \n",
    " #here input taken as string list and store in a.\n",
    "    a=raw_input(\"enter the list of string : \")\n",
    "    print a ,\"!\" #print with exclamation point ( ! ) \n",
    "add_excitement() "
   ]
  },
  {
   "cell_type": "code",
   "execution_count": null,
   "metadata": {},
   "outputs": [],
   "source": []
  }
 ],
 "metadata": {
  "kernelspec": {
   "display_name": "Python 2",
   "language": "python",
   "name": "python2"
  },
  "language_info": {
   "codemirror_mode": {
    "name": "ipython",
    "version": 2
   },
   "file_extension": ".py",
   "mimetype": "text/x-python",
   "name": "python",
   "nbconvert_exporter": "python",
   "pygments_lexer": "ipython2",
   "version": "2.7.15"
  }
 },
 "nbformat": 4,
 "nbformat_minor": 2
}
