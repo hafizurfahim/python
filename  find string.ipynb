{
 "cells": [
  {
   "cell_type": "markdown",
   "metadata": {},
   "source": [
    "# 6.\t#Write a function called matches that takes two strings as arguments and returns how many matches there are between the strings. A match is where the two strings have the same character at the same index. For instance, ' python ' and ' path ' match in the first, third, and fourth characters, so the function should return 3."
   ]
  },
  {
   "cell_type": "code",
   "execution_count": 6,
   "metadata": {},
   "outputs": [
    {
     "name": "stdout",
     "output_type": "stream",
     "text": [
      "match between strings :  3\n"
     ]
    }
   ],
   "source": [
    " def match(): \n",
    "    a='python'\n",
    "    b='path'\n",
    "    x, y= 0, 0\n",
    "                       \n",
    "    for i in a:  # loop executes till length of str1 and stores value of str1 character by character \n",
    "                    #in i at each iteration.     \n",
    "        if a.find(i)>= 0 and y == b.find(i):#j == str1.find(i)is used to avoid the counting of the duplicate characters   \n",
    "            x += 1\n",
    "        y += 1\n",
    "    \n",
    "\n",
    "    print 'match between strings : ', x \n",
    "  \n",
    "\n",
    " match() \n",
    "  \n",
    " \n"
   ]
  },
  {
   "cell_type": "code",
   "execution_count": null,
   "metadata": {},
   "outputs": [],
   "source": []
  }
 ],
 "metadata": {
  "kernelspec": {
   "display_name": "Python 2",
   "language": "python",
   "name": "python2"
  },
  "language_info": {
   "codemirror_mode": {
    "name": "ipython",
    "version": 2
   },
   "file_extension": ".py",
   "mimetype": "text/x-python",
   "name": "python",
   "nbconvert_exporter": "python",
   "pygments_lexer": "ipython2",
   "version": "2.7.15"
  }
 },
 "nbformat": 4,
 "nbformat_minor": 2
}
