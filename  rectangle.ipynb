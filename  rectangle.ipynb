{
 "cells": [
  {
   "cell_type": "markdown",
   "metadata": {},
   "source": [
    "# Write a function called rectangle that takes two integers m and n as arguments and prints out an m × n box consisting of asterisks.\n"
   ]
  },
  {
   "cell_type": "code",
   "execution_count": 3,
   "metadata": {},
   "outputs": [
    {
     "name": "stdout",
     "output_type": "stream",
     "text": [
      "width of the rectangle: 5\n",
      " length of rectangle: 6\n",
      "*****\n",
      "*****\n",
      "*****\n",
      "*****\n",
      "*****\n",
      "*****\n"
     ]
    }
   ],
   "source": [
    "##here i'm taking input\n",
    "m=int(input(\"width of the rectangle: \"))\n",
    "n=(input(\" length of rectangle: \"))\n",
    "\n",
    "#this input for asterisks .\n",
    "\n",
    "x=\"*\"\n",
    "\n",
    "#Here i'm declaring function .\n",
    "\n",
    "def rectangle():\n",
    "    \n",
    "    #this is for loop ,i is a variable and range means execution limit which takes from n.\n",
    "    \n",
    "    for i in range(n):\n",
    "        \n",
    "    #this is output ,and output's width is m and length is n.    \n",
    "        print (m*x)\n",
    "rectangle()"
   ]
  },
  {
   "cell_type": "code",
   "execution_count": null,
   "metadata": {},
   "outputs": [],
   "source": []
  }
 ],
 "metadata": {
  "kernelspec": {
   "display_name": "Python 2",
   "language": "python",
   "name": "python2"
  },
  "language_info": {
   "codemirror_mode": {
    "name": "ipython",
    "version": 2
   },
   "file_extension": ".py",
   "mimetype": "text/x-python",
   "name": "python",
   "nbconvert_exporter": "python",
   "pygments_lexer": "ipython2",
   "version": "2.7.15"
  }
 },
 "nbformat": 4,
 "nbformat_minor": 2
}
